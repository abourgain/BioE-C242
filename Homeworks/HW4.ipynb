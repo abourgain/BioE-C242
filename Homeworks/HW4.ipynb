{
 "cells": [
  {
   "cell_type": "markdown",
   "id": "0f4b5f11",
   "metadata": {},
   "source": [
    "# Question 2\n",
    "\n",
    "## (a)"
   ]
  },
  {
   "cell_type": "markdown",
   "id": "cb95af75-3846-48f5-a4ae-246dd7658f5b",
   "metadata": {},
   "source": [
    "**ANSWER:** In Gaussian Naïve Bayes, P(wine attribute x∣cultivar) is typically represented by a Gaussian (normal) distribution for each attribute within each class (cultivar). It has the following form:\n",
    "\n",
    "$$P(x | \\text{cultivar}) = \\frac{1}{\\sqrt{2\\pi\\sigma^2}} \\exp\\left(-\\frac{(x - \\mu)^2}{2\\sigma^2}\\right)$$\n",
    "where\n",
    "+ $x$ is the value of the wine attribute.\n",
    "+ $\\mu$ is the mean of the attribute for this cultivar.\n",
    "+ $\\sigma$ is the standard deviation of the attribute for this cultivar.\n",
    "\n",
    "The Gaussian distribution is chosen because the Naïve Bayes classifier assumes that the continuous values associated with each class are distributed according to the Gaussian distribution. We can indeed think of the Central Limit Theorem, which implies that for a high number of samples, the distribution of a random variable can be approximated by a Gaussian distribution."
   ]
  },
  {
   "cell_type": "code",
   "execution_count": 1,
   "id": "f581d2ae",
   "metadata": {},
   "outputs": [],
   "source": [
    "import numpy as np\n",
    "import pandas as pd\n",
    "import matplotlib.pyplot as plt\n",
    "from sklearn.model_selection import KFold"
   ]
  },
  {
   "cell_type": "code",
   "execution_count": 2,
   "id": "e06a2cba-d3f1-4cf8-96be-f404998ac23c",
   "metadata": {},
   "outputs": [],
   "source": [
    "# Note: you can modify the template, define new attributes or \n",
    "# functions as you want\n",
    "class NaiveBayesClassifier():\n",
    "    def __init__(self):\n",
    "        # classes\n",
    "        self.cls = []\n",
    "        # statistics of features that belongs to different classes\n",
    "        self.cls_stats = []\n",
    "        # prior probablity, i.e. P(C)\n",
    "        self.prior_prob = []\n",
    "        \n",
    "        self.trained = False\n",
    "    \n",
    "    @staticmethod\n",
    "    def gaussian(X, mean, std):\n",
    "        \"\"\"\n",
    "        Gaussian probability distribution function\n",
    "        \n",
    "        Parameters\n",
    "        ----------\n",
    "        X: numpy.ndarray\n",
    "            Input data, shape (n_samples, n_features)\n",
    "        mean: numpy.ndarray\n",
    "            Average of each feature, shape (n_features,)\n",
    "        std: numpy.ndarray\n",
    "            Standard deviation of each feature, shape (n_features,)\n",
    "            \n",
    "        Returns\n",
    "        -------\n",
    "        prob: numpy.ndarray\n",
    "            Probability of each feature, shape (n_samples, n_features)\n",
    "        \"\"\"\n",
    "        return np.exp(- ((X - mean)**2) / (2 * std**2)) / np.sqrt(2 * np.pi * std**2)\n",
    "    \n",
    "    @staticmethod\n",
    "    def calculate_statistics(X):\n",
    "        \"\"\"\n",
    "        Calculate the average and standard deviation of each feature \n",
    "        based on the input data\n",
    "        \n",
    "        Parameters\n",
    "        ----------\n",
    "        X: numpy.ndarray\n",
    "            Input data, shape (n_samples, n_features)\n",
    "            \n",
    "        Returns\n",
    "        -------\n",
    "        mean: numpy.ndarray\n",
    "            Average of each feature, shape (n_features,)\n",
    "        std: numpy.ndarray\n",
    "            Standard deviation of each feature, shape (n_features,)\n",
    "        \"\"\"\n",
    "        mean = np.mean(X, axis=0)\n",
    "        std = np.std(X, axis=0)\n",
    "        return mean, std\n",
    "    \n",
    "    @staticmethod\n",
    "    def calculate_prob(X, mean, std):\n",
    "        \"\"\"\n",
    "        Calculate the prior probability that the input features belong to a specific class,\n",
    "        i.e. P(X | C) = \\prod_i P(X_i | C)\n",
    "        which is defined by the statistics of features in that class.\n",
    "        \n",
    "        Gaussian probability distribution function\n",
    "        \n",
    "        Parameters\n",
    "        ----------\n",
    "        X: numpy.ndarray\n",
    "            Input data, shape (n_samples, n_features)\n",
    "        mean: numpy.ndarray\n",
    "            Average of each feature in the specific class, shape (n_features,)\n",
    "        std: numpy.ndarray\n",
    "            Standard deviation of each feature in the specific class, shape (n_features,)\n",
    "            \n",
    "        Returns\n",
    "        -------\n",
    "        prob: numpy.ndarray\n",
    "            Probability that the features belong to a specific class, shape (n_samples,)\n",
    "        \"\"\"\n",
    "        return np.prod(NaiveBayesClassifier.gaussian(X, mean, std), axis=1)\n",
    "    \n",
    "    def fit(self, X, y):\n",
    "        \"\"\"\n",
    "        Train the classifier by calculating the statistics of different features in each class\n",
    "        \n",
    "        Parameters\n",
    "        ----------\n",
    "        X: numpy.ndarray\n",
    "            Input data, shape (n_samples, n_features)\n",
    "        y: numpy.ndarray\n",
    "            Labels (the actual classes), shape (n_samples)\n",
    "        \"\"\"\n",
    "        ndata = y.shape[0]\n",
    "        self.cls = np.unique(y)\n",
    "        for i in range(len(self.cls)):\n",
    "            cls_filter = (y == self.cls[i])\n",
    "            cls_filter = np.reshape(cls_filter, (1, -1))[0]\n",
    "            self.prior_prob.append(np.sum(cls_filter) / ndata)\n",
    "            self.cls_stats.append(self.calculate_statistics(X[cls_filter]))\n",
    "        self.trained = True\n",
    "            \n",
    "    def predict(self, X):\n",
    "        # Do the prediction by outputing the class that has highest probability\n",
    "        assert self.trained, f\"The classfier has not been trained. Call {self.__class__.__name__}.fit first\"\n",
    "        probs = []\n",
    "        for i in range(len(self.cls)):\n",
    "            mean_i, std_i = self.cls_stats[i]\n",
    "            cls_probs = self.calculate_prob(X, mean_i, std_i)\n",
    "            prior_prob = self.prior_prob[i]\n",
    "            probs.append(cls_probs * prior_prob)\n",
    "        return self.cls[np.argmax(probs, axis=0)]"
   ]
  },
  {
   "cell_type": "markdown",
   "id": "5fa54ead-dc1f-4d82-8404-23c47fbcc2e4",
   "metadata": {},
   "source": [
    "We can load the dataset:"
   ]
  },
  {
   "cell_type": "code",
   "execution_count": 3,
   "id": "590aa285-b77e-4488-a3f8-c101af9e2907",
   "metadata": {},
   "outputs": [
    {
     "name": "stdout",
     "output_type": "stream",
     "text": [
      "mean: 13.74, std: 0.46\n"
     ]
    }
   ],
   "source": [
    "df = pd.read_csv(\"../Datasets/wines.csv\")\n",
    "# Create X and y\n",
    "X = df[['Alcohol %']].values\n",
    "y = df[\"ranking\"].values\n",
    "\n",
    "# Create the filter on cultivar 1\n",
    "cultivar1_filter = (y == 1)\n",
    "cultivar1_filter = np.reshape(cultivar1_filter, (1, -1))[0]\n",
    "\n",
    "# Compute the mean and std for this class\n",
    "mean, std = NaiveBayesClassifier.calculate_statistics(X[cultivar1_filter])\n",
    "print(f\"mean: {round(mean[0], 2)}, std: {round(std[0], 2)}\")"
   ]
  },
  {
   "cell_type": "code",
   "execution_count": 4,
   "id": "f54dba8e-3eec-405e-ab66-b7d43437c6bb",
   "metadata": {},
   "outputs": [
    {
     "name": "stdout",
     "output_type": "stream",
     "text": [
      "Probability of having an Alcohol % of 13 : 23.24%\n"
     ]
    }
   ],
   "source": [
    "# Predict for an alcohol % of 13\n",
    "x_13 = np.array([[13.0]])\n",
    "\n",
    "print(f\"Probability of having an Alcohol % of 13 : {round(NaiveBayesClassifier.gaussian(x_13, mean, std)[0][0] * 100, 2)}%\")"
   ]
  },
  {
   "cell_type": "markdown",
   "id": "c3ac88eb-68a4-4118-a8fa-e55cf14d7621",
   "metadata": {},
   "source": [
    "**ANSWER:** Hence, the chance of it having an Alcohol % of 13 according to the probability distribution function is around 23.24%."
   ]
  },
  {
   "cell_type": "markdown",
   "id": "52a38883",
   "metadata": {},
   "source": [
    "## (b)"
   ]
  },
  {
   "cell_type": "markdown",
   "id": "2fcbcdce",
   "metadata": {},
   "source": [
    "Preprocess data:\n",
    "+ Select relevant descriptors (columns other than \"Start assignment\" and \"ranking\"). Should get *178 datapoints and 13 features*.\n",
    "+ Normalize the data with `StandardScaler` in sklearn.\n",
    "+ The labels are in the \"ranking\" column.\n",
    "\n",
    "*For debugging*: The accuracy could reach over 95\\%."
   ]
  },
  {
   "cell_type": "markdown",
   "id": "09efdbb6-365e-4ce7-bd29-dc24c7f3a37e",
   "metadata": {},
   "source": [
    "We can import the dataset."
   ]
  },
  {
   "cell_type": "code",
   "execution_count": 5,
   "id": "65e1eadb",
   "metadata": {},
   "outputs": [
    {
     "data": {
      "text/html": [
       "<div>\n",
       "<style scoped>\n",
       "    .dataframe tbody tr th:only-of-type {\n",
       "        vertical-align: middle;\n",
       "    }\n",
       "\n",
       "    .dataframe tbody tr th {\n",
       "        vertical-align: top;\n",
       "    }\n",
       "\n",
       "    .dataframe thead th {\n",
       "        text-align: right;\n",
       "    }\n",
       "</style>\n",
       "<table border=\"1\" class=\"dataframe\">\n",
       "  <thead>\n",
       "    <tr style=\"text-align: right;\">\n",
       "      <th></th>\n",
       "      <th>Alcohol %</th>\n",
       "      <th>Malic Acid</th>\n",
       "      <th>Ash</th>\n",
       "      <th>Alkalinity</th>\n",
       "      <th>Mg</th>\n",
       "      <th>Phenols</th>\n",
       "      <th>Flavanoids</th>\n",
       "      <th>Phenols.1</th>\n",
       "      <th>Proantho-cyanins</th>\n",
       "      <th>Color intensity</th>\n",
       "      <th>Hue</th>\n",
       "      <th>OD280 315</th>\n",
       "      <th>Proline</th>\n",
       "      <th>Start assignment</th>\n",
       "      <th>ranking</th>\n",
       "    </tr>\n",
       "  </thead>\n",
       "  <tbody>\n",
       "    <tr>\n",
       "      <th>0</th>\n",
       "      <td>14.23</td>\n",
       "      <td>1.71</td>\n",
       "      <td>2.43</td>\n",
       "      <td>15.6</td>\n",
       "      <td>127</td>\n",
       "      <td>2.8</td>\n",
       "      <td>3.06</td>\n",
       "      <td>0.28</td>\n",
       "      <td>2.29</td>\n",
       "      <td>5.64</td>\n",
       "      <td>1.04</td>\n",
       "      <td>3.92</td>\n",
       "      <td>1065</td>\n",
       "      <td>1</td>\n",
       "      <td>1</td>\n",
       "    </tr>\n",
       "    <tr>\n",
       "      <th>1</th>\n",
       "      <td>13.24</td>\n",
       "      <td>2.59</td>\n",
       "      <td>2.87</td>\n",
       "      <td>21.0</td>\n",
       "      <td>118</td>\n",
       "      <td>2.8</td>\n",
       "      <td>2.69</td>\n",
       "      <td>0.39</td>\n",
       "      <td>1.82</td>\n",
       "      <td>4.32</td>\n",
       "      <td>1.04</td>\n",
       "      <td>2.93</td>\n",
       "      <td>735</td>\n",
       "      <td>1</td>\n",
       "      <td>1</td>\n",
       "    </tr>\n",
       "    <tr>\n",
       "      <th>2</th>\n",
       "      <td>14.83</td>\n",
       "      <td>1.64</td>\n",
       "      <td>2.17</td>\n",
       "      <td>14.0</td>\n",
       "      <td>97</td>\n",
       "      <td>2.8</td>\n",
       "      <td>2.98</td>\n",
       "      <td>0.29</td>\n",
       "      <td>1.98</td>\n",
       "      <td>5.20</td>\n",
       "      <td>1.08</td>\n",
       "      <td>2.85</td>\n",
       "      <td>1045</td>\n",
       "      <td>1</td>\n",
       "      <td>1</td>\n",
       "    </tr>\n",
       "    <tr>\n",
       "      <th>3</th>\n",
       "      <td>14.12</td>\n",
       "      <td>1.48</td>\n",
       "      <td>2.32</td>\n",
       "      <td>16.8</td>\n",
       "      <td>95</td>\n",
       "      <td>2.2</td>\n",
       "      <td>2.43</td>\n",
       "      <td>0.26</td>\n",
       "      <td>1.57</td>\n",
       "      <td>5.00</td>\n",
       "      <td>1.17</td>\n",
       "      <td>2.82</td>\n",
       "      <td>1280</td>\n",
       "      <td>1</td>\n",
       "      <td>1</td>\n",
       "    </tr>\n",
       "    <tr>\n",
       "      <th>4</th>\n",
       "      <td>13.75</td>\n",
       "      <td>1.73</td>\n",
       "      <td>2.41</td>\n",
       "      <td>16.0</td>\n",
       "      <td>89</td>\n",
       "      <td>2.6</td>\n",
       "      <td>2.76</td>\n",
       "      <td>0.29</td>\n",
       "      <td>1.81</td>\n",
       "      <td>5.60</td>\n",
       "      <td>1.15</td>\n",
       "      <td>2.90</td>\n",
       "      <td>1320</td>\n",
       "      <td>1</td>\n",
       "      <td>1</td>\n",
       "    </tr>\n",
       "  </tbody>\n",
       "</table>\n",
       "</div>"
      ],
      "text/plain": [
       "   Alcohol %  Malic Acid   Ash  Alkalinity   Mg  Phenols  Flavanoids  \\\n",
       "0      14.23        1.71  2.43        15.6  127      2.8        3.06   \n",
       "1      13.24        2.59  2.87        21.0  118      2.8        2.69   \n",
       "2      14.83        1.64  2.17        14.0   97      2.8        2.98   \n",
       "3      14.12        1.48  2.32        16.8   95      2.2        2.43   \n",
       "4      13.75        1.73  2.41        16.0   89      2.6        2.76   \n",
       "\n",
       "   Phenols.1  Proantho-cyanins  Color intensity   Hue  OD280 315  Proline  \\\n",
       "0       0.28              2.29             5.64  1.04       3.92     1065   \n",
       "1       0.39              1.82             4.32  1.04       2.93      735   \n",
       "2       0.29              1.98             5.20  1.08       2.85     1045   \n",
       "3       0.26              1.57             5.00  1.17       2.82     1280   \n",
       "4       0.29              1.81             5.60  1.15       2.90     1320   \n",
       "\n",
       "   Start assignment  ranking  \n",
       "0                 1        1  \n",
       "1                 1        1  \n",
       "2                 1        1  \n",
       "3                 1        1  \n",
       "4                 1        1  "
      ]
     },
     "execution_count": 5,
     "metadata": {},
     "output_type": "execute_result"
    }
   ],
   "source": [
    "df = pd.read_csv(\"../Datasets/wines.csv\")\n",
    "df.head()"
   ]
  },
  {
   "cell_type": "code",
   "execution_count": 6,
   "id": "9a142b32-0887-41ab-9f08-6e933f399c2e",
   "metadata": {},
   "outputs": [],
   "source": [
    "from sklearn.preprocessing import StandardScaler"
   ]
  },
  {
   "cell_type": "code",
   "execution_count": 7,
   "id": "56da5fd2-a567-4daa-b127-33b439397216",
   "metadata": {},
   "outputs": [],
   "source": [
    "# normalize the data\n",
    "features = df.drop(['Start assignment', 'ranking'], axis=1).values\n",
    "X = StandardScaler().fit_transform(features)\n",
    "y = df[\"ranking\"].values\n",
    "\n",
    "# we verify that we have the good dimensions (178 datapoints and 13 features)\n",
    "assert X.shape == (178, 13), f\"Warning, X's dimensions are incorrect ({X.shape[0]} datapoints and {X.shape[1]} features)!\""
   ]
  },
  {
   "cell_type": "code",
   "execution_count": 8,
   "id": "a0450667",
   "metadata": {},
   "outputs": [],
   "source": [
    "def calculate_accuracy(model, X, y):\n",
    "    y_pred = model.predict(X)\n",
    "    acc = np.sum(y_pred == y) / len(y)\n",
    "    return acc\n",
    "\n",
    "def KFoldNaiveBayes(k, X, y):\n",
    "    \"\"\"\n",
    "    K-Fold Cross Validation for Naive Bayes Classifier\n",
    "    \n",
    "    Parameters\n",
    "    ---------\n",
    "    k: int\n",
    "        Number of folds\n",
    "    X: numpy.ndarray\n",
    "        Input data, shape (n_samples, n_features)\n",
    "    y: numpy.ndarray\n",
    "        Class labels, shape (n_samples)\n",
    "    \"\"\"\n",
    "    kf = KFold(n_splits=k, shuffle=True)\n",
    "    train_acc_all = []\n",
    "    test_acc_all = []\n",
    "    for train_index, test_index in kf.split(X):\n",
    "        X_train, X_test = X[train_index], X[test_index]\n",
    "        y_train, y_test = y[train_index], y[test_index]\n",
    "        \n",
    "        model = NaiveBayesClassifier()\n",
    "\n",
    "        model.fit(X_train, y_train)\n",
    "        \n",
    "        # Report prediction accuracy for this fold\n",
    "        # use the calculate_accuracy() function\n",
    "        train_acc = calculate_accuracy(model, X_train, y_train)\n",
    "        train_acc_all.append(train_acc)\n",
    "        test_acc = calculate_accuracy(model, X_test, y_test)\n",
    "        test_acc_all.append(test_acc)\n",
    "        print(f\"Train accuracy: {round(train_acc  * 100, 2)}%\")\n",
    "        print(f\"Test accuracy: {round(test_acc * 100, 2)}%\")\n",
    "    \n",
    "    # report mean & std for the training/testing accuracy\n",
    "    print(\"Final results:\")\n",
    "    print(f\"\\t-> Training accuracy: {round(np.mean(train_acc_all) * 100, 2)}% +/- {round(np.std(train_acc_all)  * 100, 2)}\")\n",
    "    print(f\"\\t-> Testing accuracy: {round(np.mean(test_acc_all) * 100, 2)}% +/- {round(np.std(test_acc_all)  * 100, 2)}\")"
   ]
  },
  {
   "cell_type": "code",
   "execution_count": 9,
   "id": "40c41529-f182-4d14-866a-6c7e3a40d589",
   "metadata": {},
   "outputs": [
    {
     "name": "stdout",
     "output_type": "stream",
     "text": [
      "Train accuracy: 99.15%\n",
      "Test accuracy: 98.33%\n",
      "Train accuracy: 98.32%\n",
      "Test accuracy: 94.92%\n",
      "Train accuracy: 98.32%\n",
      "Test accuracy: 96.61%\n",
      "Final results:\n",
      "\t-> Training accuracy: 98.6% +/- 0.39\n",
      "\t-> Testing accuracy: 96.62% +/- 1.4\n"
     ]
    }
   ],
   "source": [
    "KFoldNaiveBayes(k=3, X=X, y=y)"
   ]
  },
  {
   "cell_type": "markdown",
   "id": "5ab41ca4",
   "metadata": {},
   "source": [
    "# Question 3\n",
    "\n",
    "## (a)"
   ]
  },
  {
   "cell_type": "code",
   "execution_count": 10,
   "id": "5a1a2941",
   "metadata": {},
   "outputs": [],
   "source": [
    "import torch\n",
    "import torch.nn as nn\n",
    "from sklearn.model_selection import train_test_split"
   ]
  },
  {
   "cell_type": "code",
   "execution_count": 11,
   "id": "79a03166",
   "metadata": {},
   "outputs": [],
   "source": [
    "# Define your model here\n",
    "class Net(nn.Module):\n",
    "    def __init__(self, input_dim, output_dim):\n",
    "        super().__init__() # initialize first the nn.Module class\n",
    "        self.input_dim = input_dim\n",
    "        self.output_dim = output_dim\n",
    "        self.layers = nn.Sequential(\n",
    "            nn.Linear(self.input_dim, self.output_dim),\n",
    "            nn.ReLU(),\n",
    "            nn.Softmax(dim=1)\n",
    "        )\n",
    "        \n",
    "    def forward(self, X):\n",
    "        return self.layers(X)\n",
    "        \n",
    "class NetWithoutSoftmax(nn.Module):\n",
    "    def __init__(self, input_dim, output_dim):\n",
    "        super().__init__() # initialize first the nn.Module class\n",
    "        self.input_dim = input_dim\n",
    "        self.output_dim = output_dim\n",
    "        self.layers = nn.Sequential(\n",
    "            nn.Linear(self.input_dim, self.output_dim),\n",
    "            nn.ReLU(),\n",
    "        )\n",
    "        \n",
    "    def forward(self, X):\n",
    "        return self.layers(X)"
   ]
  },
  {
   "cell_type": "code",
   "execution_count": 12,
   "id": "af5831f2-b269-450b-87eb-75d4d365e600",
   "metadata": {},
   "outputs": [
    {
     "name": "stderr",
     "output_type": "stream",
     "text": [
      "/var/folders/8w/hjszh63d3c73r_p9_djpkmkh0000gn/T/ipykernel_32683/2528682528.py:7: UserWarning: To copy construct from a tensor, it is recommended to use sourceTensor.clone().detach() or sourceTensor.clone().detach().requires_grad_(True), rather than torch.tensor(sourceTensor).\n",
      "  X = torch.tensor(X, dtype=torch.float32)\n"
     ]
    }
   ],
   "source": [
    "features = df.drop(['Start assignment', 'ranking'], axis=1).values\n",
    "X = StandardScaler().fit_transform(features)\n",
    "X = torch.tensor(X, dtype=torch.float32)\n",
    "y = torch.tensor(df['ranking'].values - 1)\n",
    "\n",
    "# transform X and y into tensors\n",
    "X = torch.tensor(X, dtype=torch.float32)\n",
    "y = torch.tensor(df['ranking'].values - 1, dtype=torch.float32)"
   ]
  },
  {
   "cell_type": "code",
   "execution_count": 13,
   "id": "49df5d62-e45b-45f9-b05b-d0881da16863",
   "metadata": {},
   "outputs": [
    {
     "name": "stdout",
     "output_type": "stream",
     "text": [
      "output (first 10 rows): tensor([[0.4291, 0.2854, 0.2854],\n",
      "        [0.4730, 0.3223, 0.2047],\n",
      "        [0.3333, 0.3333, 0.3333],\n",
      "        [0.3343, 0.3328, 0.3328],\n",
      "        [0.3333, 0.3333, 0.3333],\n",
      "        [0.5178, 0.2411, 0.2411],\n",
      "        [0.3509, 0.3738, 0.2753],\n",
      "        [0.3309, 0.3382, 0.3309],\n",
      "        [0.3999, 0.3000, 0.3000],\n",
      "        [0.3333, 0.3333, 0.3333]], grad_fn=<SliceBackward0>)\n"
     ]
    }
   ],
   "source": [
    "model = Net(input_dim=13, output_dim=3)\n",
    "print(f\"output (first 10 rows): {model(X)[:10]}\")"
   ]
  },
  {
   "cell_type": "code",
   "execution_count": 14,
   "id": "fce6126d-3db5-4202-a020-515313b75444",
   "metadata": {},
   "outputs": [
    {
     "name": "stdout",
     "output_type": "stream",
     "text": [
      "output (first 10 rows): tensor([[0.4992, 0.0000, 0.8628],\n",
      "        [0.5087, 0.1429, 0.2481],\n",
      "        [0.2447, 0.2601, 0.4278],\n",
      "        [0.2775, 0.0738, 0.1608],\n",
      "        [0.3721, 0.2248, 0.0000],\n",
      "        [0.5417, 0.2138, 0.5476],\n",
      "        [0.3981, 0.0000, 0.8007],\n",
      "        [0.5721, 0.0000, 0.0000],\n",
      "        [0.5942, 0.0940, 0.0000],\n",
      "        [0.2320, 0.0000, 0.1017]], grad_fn=<SliceBackward0>)\n"
     ]
    }
   ],
   "source": [
    "model_without_softmax = NetWithoutSoftmax(input_dim=13, output_dim=3)\n",
    "print(f\"output (first 10 rows): {model_without_softmax(X)[:10]}\")"
   ]
  },
  {
   "cell_type": "markdown",
   "id": "488a9bf1-89d1-4e69-8c02-89d9edbf43da",
   "metadata": {},
   "source": [
    "**ANSWER:** \n",
    "\n",
    "When we pass the data through the network with a softmax layer at the output, the output we get is a probability distribution across the classes, which can be directly interpreted. \n",
    "\n",
    "Without the softmax layer, the output consists of raw scores that do not necessarily sum to one and cannot be directly interpreted as probabilities."
   ]
  },
  {
   "cell_type": "markdown",
   "id": "c8fb16c6",
   "metadata": {},
   "source": [
    "## (b)\n",
    "\n",
    "*For debugging*: The accuracy could reach over 95\\% if the hyperparameters are tuned properly."
   ]
  },
  {
   "cell_type": "code",
   "execution_count": 15,
   "id": "5f35ba2d",
   "metadata": {},
   "outputs": [],
   "source": [
    "def train_and_val(model, X_train, y_train, epochs, draw_curve=True):\n",
    "    \"\"\"\n",
    "    Further split the data into acutal train and validation subsets.\n",
    "    \"\"\"\n",
    "    # Define your loss function, optimizer\n",
    "    loss_func = nn.CrossEntropyLoss() # because it is a classification task\n",
    "    optimizer = torch.optim.Adam(model.parameters(), lr=0.01)\n",
    "    \n",
    "    X_train_in, X_val, y_train_in, y_val = train_test_split(X, y, test_size=0.2)\n",
    "    \n",
    "    val_losses = []\n",
    "    lowest_val_loss = np.inf\n",
    "    \n",
    "    weights = {}\n",
    "    for i in range(epochs):\n",
    "        # Compute the loss and do back-propagation\n",
    "        y_train_pred = model(X_train_in)\n",
    "\n",
    "        y_train_in = y_train_in.long()  # Assuming y_train_in is a tensor\n",
    "        y_val = y_val.long()  # Assuming y_val is a tensor\n",
    "        \n",
    "        loss = loss_func(y_train_pred, y_train_in)\n",
    "        \n",
    "        optimizer.zero_grad()\n",
    "        loss.backward()\n",
    "        optimizer.step()\n",
    "        \n",
    "        # Compute validation loss and keep track of the lowest val loss\n",
    "        with torch.no_grad():\n",
    "            val_loss = loss_func(model(X_val), y_val)\n",
    "        \n",
    "        if val_loss < lowest_val_loss:\n",
    "            lowest_val_loss = val_loss\n",
    "            weights = model.state_dict() \n",
    "        val_losses.append(val_loss)\n",
    "        \n",
    "    # The final number of epochs is when the minimum error in validation set occurs    \n",
    "    final_epochs = np.argmin(val_losses)\n",
    "    print(\"Number of epochs with lowest validation:\", final_epochs)\n",
    "    print(f\"Validation loss: {np.min(val_losses)}\")\n",
    "    # Recover the model weights\n",
    "    model.load_state_dict(weights)\n",
    "\n",
    "    if draw_curve:\n",
    "        fig, ax = plt.subplots(1, 1, figsize=(5, 4), constrained_layout=True)\n",
    "        ax.plot(np.arange(epochs), val_losses, label='Validation loss')\n",
    "        ax.set_xlabel('Epochs')\n",
    "        ax.set_ylabel('Loss')\n",
    "        ax.legend()\n",
    "    \n",
    "    return model\n",
    "\n",
    "\n",
    "def calculate_accuracy_nn(model, X, y):\n",
    "    with torch.no_grad():\n",
    "        y_pred = torch.argmax(model(X), axis=1)\n",
    "        acc = torch.sum(y_pred == y) / len(y)\n",
    "    return acc.detach().numpy()\n",
    "\n",
    "\n",
    "def KFoldNN(k, X, y, epochs=500):\n",
    "    \"\"\"\n",
    "    K-Fold Validation for Neural Network\n",
    "    \n",
    "    Parameters\n",
    "    ---------\n",
    "    k: int\n",
    "        Number of folds\n",
    "    X: numpy.ndarray\n",
    "        Input data, shape (n_samples, n_features)\n",
    "    y: numpy.ndarray\n",
    "        Class labels, shape (n_samples)\n",
    "    epochs: int\n",
    "        Number of epochs during training\n",
    "    \"\"\"\n",
    "    # K-Fold\n",
    "    kf = KFold(n_splits=k, shuffle=True)\n",
    "    train_acc_all = []\n",
    "    test_acc_all = []\n",
    "    for train_index, test_index in kf.split(X):\n",
    "        X_train, X_test = X[train_index], X[test_index]\n",
    "        y_train, y_test = y[train_index], y[test_index]\n",
    "        \n",
    "        # further do a train/valid split on X_train\n",
    "        model = train_and_val(Net(input_dim=X.shape[1], output_dim=len(np.unique(y))), X_train, y_train, epochs=epochs, draw_curve=True)\n",
    "        \n",
    "        # Report prediction accuracy for this fold\n",
    "        # use calculate_accuracy_nn() function\n",
    "        train_acc = calculate_accuracy_nn(model, X_train, y_train)\n",
    "        train_acc_all.append(train_acc)\n",
    "        test_acc = calculate_accuracy_nn(model, X_test, y_test)\n",
    "        test_acc_all.append(test_acc)\n",
    "        print(f\"Train accuracy: {round(train_acc  * 100, 2)}%\")\n",
    "        print(f\"Test accuracy: {round(test_acc * 100, 2)}%\")\n",
    "    \n",
    "    # report mean & std for the training/testing accuracy\n",
    "    print(\"Final results:\")\n",
    "    print(f\"\\t-> Training accuracy: {round(np.mean(train_acc_all) * 100, 2)}% +/- {round(np.std(train_acc_all)  * 100, 2)}\")\n",
    "    print(f\"\\t-> Testing accuracy: {round(np.mean(test_acc_all) * 100, 2)}% +/- {round(np.std(test_acc_all)  * 100, 2)}\")"
   ]
  },
  {
   "cell_type": "code",
   "execution_count": 16,
   "id": "19e649cc-2cb1-4c06-b5b4-63c7d1b945ec",
   "metadata": {},
   "outputs": [
    {
     "name": "stdout",
     "output_type": "stream",
     "text": [
      "Number of epochs with lowest validation: 999\n",
      "Validation loss: 0.5686408877372742\n",
      "Train accuracy: 100.0%\n",
      "Test accuracy: 98.33%\n",
      "Number of epochs with lowest validation: 999\n",
      "Validation loss: 0.5721571445465088\n",
      "Train accuracy: 99.16%\n",
      "Test accuracy: 100.0%\n",
      "Number of epochs with lowest validation: 999\n",
      "Validation loss: 0.5765390396118164\n",
      "Train accuracy: 99.16%\n",
      "Test accuracy: 100.0%\n",
      "Final results:\n",
      "\t-> Training accuracy: 99.44% +/- 0.4\n",
      "\t-> Testing accuracy: 99.44% +/- 0.79\n"
     ]
    },
    {
     "data": {
      "image/png": "[encoded data removed]",
      "text/plain": [
       "<Figure size 500x400 with 1 Axes>"
      ]
     },
     "metadata": {},
     "output_type": "display_data"
    },
    {
     "data": {
      "image/png": "[encoded data removed]",
      "text/plain": [
       "<Figure size 500x400 with 1 Axes>"
      ]
     },
     "metadata": {},
     "output_type": "display_data"
    },
    {
     "data": {
      "image/png": "[encoded data removed]",
      "text/plain": [
       "<Figure size 500x400 with 1 Axes>"
      ]
     },
     "metadata": {},
     "output_type": "display_data"
    }
   ],
   "source": [
    "KFoldNN(k=3, X=X, y=y, epochs=1000)"
   ]
  },
  {
   "cell_type": "markdown",
   "id": "645fbc72-e345-4780-9dab-35c187f8e4e5",
   "metadata": {},
   "source": [
    "**ANSWER:** The prediction seems better relative to problem 2 if the number of epochs is sufficient. We use many more parameters than for problem 2. The model for the problem 2 still works very well."
   ]
  }
 ],
 "metadata": {
  "kernelspec": {
   "display_name": "bioe242",
   "language": "python",
   "name": "bioe242"
  },
  "language_info": {
   "codemirror_mode": {
    "name": "ipython",
    "version": 3
   },
   "file_extension": ".py",
   "mimetype": "text/x-python",
   "name": "python",
   "nbconvert_exporter": "python",
   "pygments_lexer": "ipython3",
   "version": "3.8.18"
  }
 },
 "nbformat": 4,
 "nbformat_minor": 5
}
