{
 "cells": [
  {
   "cell_type": "markdown",
   "id": "56b6525a",
   "metadata": {},
   "source": [
    "# Question 1"
   ]
  },
  {
   "cell_type": "code",
   "execution_count": 1,
   "id": "9fadcd13",
   "metadata": {
    "scrolled": true
   },
   "outputs": [],
   "source": [
    "import numpy as np\n",
    "import matplotlib.pyplot as plt\n",
    "from tqdm import tqdm\n",
    "from sklearn.preprocessing import OneHotEncoder\n",
    "\n",
    "import torch\n",
    "import torch.nn as nn\n",
    "from torch.utils.data import Dataset, DataLoader\n",
    "\n",
    "\n",
    "from rdkit import Chem\n",
    "from rdkit import RDLogger\n",
    "RDLogger.DisableLog(\"rdApp.*\")\n",
    "\n",
    "     \n",
    "class Trainer:\n",
    "    def __init__(self, model, opt_method, learning_rate, batch_size, epoch, l2):\n",
    "        self.model = model\n",
    "\n",
    "        num_params = sum(item.numel() for item in model.parameters())\n",
    "        print(f\"-> {model.__class__.__name__} - Number of parameters: {num_params}\")\n",
    "        \n",
    "        if opt_method == \"sgdm\":\n",
    "            self.optimizer = torch.optim.SGD(model.parameters(), learning_rate, momentum=0.9)\n",
    "        elif opt_method == \"adam\":\n",
    "            self.optimizer = torch.optim.Adam(model.parameters(), learning_rate, weight_decay=l2)\n",
    "        else:\n",
    "            raise NotImplementedError(\"This optimization is not supported\")\n",
    "        \n",
    "        self.epoch = epoch\n",
    "        self.batch_size = batch_size\n",
    "        \n",
    "    \n",
    "    def train(self, train_data, draw_curve=True):\n",
    "        self.encoder = train_data.encoder\n",
    "        \n",
    "        train_loader = DataLoader(train_data, batch_size=self.batch_size, shuffle=True)\n",
    "        train_loss_list, train_acc_list = [], []\n",
    "        \n",
    "        loss_func = nn.CrossEntropyLoss()\n",
    "        for n in tqdm(range(self.epoch), leave=False):\n",
    "            self.model.train()\n",
    "            epoch_loss, epoch_acc = 0.0, 0.0\n",
    "            for X_batch, y_batch in train_loader:\n",
    "                batch_importance = y_batch.shape[0] / len(train_data)\n",
    "                hidden = self.model.init_hidden(y_batch.shape[0])\n",
    "                y_pred, _ = self.model(X_batch, hidden)\n",
    "                batch_loss = loss_func(y_pred, y_batch)\n",
    "                \n",
    "                self.optimizer.zero_grad()\n",
    "                batch_loss.backward()\n",
    "                self.optimizer.step()\n",
    "                \n",
    "                batch_acc = torch.sum(torch.argmax(y_pred, axis=-1) == torch.argmax(y_batch, axis=-1)) / y_batch.shape[0] / y_batch.shape[1]\n",
    "                \n",
    "                epoch_acc += batch_acc.detach().cpu().item() * batch_importance\n",
    "                epoch_loss += batch_loss.detach().cpu().item() * batch_importance\n",
    "            \n",
    "            train_acc_list.append(epoch_acc)\n",
    "            train_loss_list.append(epoch_loss)\n",
    "            \n",
    "        if draw_curve:\n",
    "            x_axis = np.arange(self.epoch)\n",
    "            fig, axes = plt.subplots(1, 2, figsize=(10, 4))\n",
    "            axes[0].plot(x_axis, train_loss_list, label=\"Train\")\n",
    "            axes[0].set_title(\"Loss\")\n",
    "            axes[0].legend()\n",
    "            axes[1].plot(x_axis, train_acc_list, label='Train')\n",
    "            axes[1].set_title(\"Accuracy\")\n",
    "            axes[1].legend()\n",
    "    \n",
    "    def sample(self, num_seq=10):\n",
    "        self.model.eval()\n",
    "        seqs = []\n",
    "        with torch.no_grad():\n",
    "            for _ in tqdm(range(num_seq), leave=False):\n",
    "                chars = ['SOS']\n",
    "                hidden = self.model.init_hidden(1)\n",
    "                while chars[-1] != 'EOS':\n",
    "                    input_encoding = self.encoder.transform(np.array([chars[-1]]).reshape(-1, 1)).toarray()\n",
    "                    input_encoding = torch.tensor(input_encoding, dtype=torch.float).reshape(1, 1, -1)\n",
    "                    out, hidden = self.model(input_encoding, hidden)\n",
    "\n",
    "                    prob = out.detach().numpy().flatten()\n",
    "                    prob /= np.sum(prob)\n",
    "\n",
    "                    index = np.random.choice(self.model.input_size, p=prob)\n",
    "                    out_encoding = np.zeros((1, self.model.input_size))\n",
    "                    out_encoding[0, index] = 1.0\n",
    "                    char = data.encoder.inverse_transform(out_encoding).flatten().tolist()[0]\n",
    "                    chars.append(char)\n",
    "                seqs.append(''.join(chars[1:-1]))\n",
    "        return seqs\n",
    "\n",
    "\n",
    "def validate(seq):\n",
    "    \"\"\"\n",
    "    Report the number of unique and valid SMILES strings\n",
    "    \n",
    "    Parameters\n",
    "    ----------\n",
    "    seq: list of str\n",
    "        List of strings to validate\n",
    "    \n",
    "    Returns\n",
    "    -------\n",
    "    valid: list of str\n",
    "        List of valid and unique SMILES strings\n",
    "    \"\"\"\n",
    "    num = len(seq)\n",
    "    unique = set(seq)\n",
    "    valid = []\n",
    "    for s in unique:\n",
    "        mol = Chem.MolFromSmiles(s)\n",
    "        if mol is not None:\n",
    "            valid.append(s)\n",
    "            \n",
    "    print(f\"Number of unique SMILES: {len(unique)}\")\n",
    "    print(f\"Number of valid & unique SMILES: {len(valid)}\")\n",
    "    return valid"
   ]
  },
  {
   "cell_type": "markdown",
   "id": "f9bcf514",
   "metadata": {},
   "source": [
    "## (a)\n",
    "\n",
    "*For debugging*: Length of the vocabulary (i.e. unique characters) should be 17."
   ]
  },
  {
   "cell_type": "code",
   "execution_count": 2,
   "id": "dbca08c2",
   "metadata": {
    "scrolled": true
   },
   "outputs": [],
   "source": [
    "def load_smiles(path):\n",
    "    with open(path) as f:\n",
    "        smiles = f.read().split('\\n')\n",
    "    return smiles\n",
    "\n",
    "\n",
    "def pad_start_end_token(smiles):\n",
    "    \"\"\"\n",
    "    Pad a list of SMILES with \"SOS\" and \"EOS\" token\n",
    "    \n",
    "    Parameters\n",
    "    ----------\n",
    "    smiles: list of str\n",
    "        A list containing SMILES strings to pad\n",
    "    \n",
    "    Returns\n",
    "    ------\n",
    "    padded: list of list of str\n",
    "        A list containing padded SMILES strings. Example: [['SOS', 'C', 'EOS'], ...]\n",
    "    \"\"\"\n",
    "    padded = []\n",
    "    for s in smiles:\n",
    "        padded.append([\"SOS\"] + list(s) + [\"EOS\"])\n",
    "    return padded\n",
    "\n",
    "\n",
    "smiles = load_smiles(\"../Datasets/ani_smiles_clean.txt\")\n",
    "padded_smiles = pad_start_end_token(smiles)\n",
    "\n",
    "vocab = np.unique(np.concatenate(padded_smiles))"
   ]
  },
  {
   "cell_type": "markdown",
   "id": "72c84fdb",
   "metadata": {},
   "source": [
    "*For debugging*: Please execute the following block to test the vocabulary and padded smiles"
   ]
  },
  {
   "cell_type": "code",
   "execution_count": 3,
   "id": "5f797a14",
   "metadata": {
    "scrolled": true
   },
   "outputs": [
    {
     "name": "stdout",
     "output_type": "stream",
     "text": [
      "Well done!\n"
     ]
    }
   ],
   "source": [
    "def test_pad():\n",
    "    assert padded_smiles[0] == ['SOS', 'C', 'EOS']\n",
    "    assert padded_smiles[1] == ['SOS', 'N', 'EOS']\n",
    "    assert len(vocab) == 17\n",
    "    print(\"Well done!\")\n",
    "\n",
    "test_pad()"
   ]
  },
  {
   "cell_type": "markdown",
   "id": "7a3c3937",
   "metadata": {},
   "source": [
    "Finish the missing lines to do the one-hot encoding."
   ]
  },
  {
   "cell_type": "code",
   "execution_count": 4,
   "id": "bb37383d",
   "metadata": {
    "scrolled": true
   },
   "outputs": [
    {
     "name": "stdout",
     "output_type": "stream",
     "text": [
      "input_size: 17\n"
     ]
    }
   ],
   "source": [
    "class SmilesDataset(Dataset):\n",
    "    def __init__(self, smiles, vocab):\n",
    "        \n",
    "        self.vocab = np.array(vocab, dtype=str).reshape(-1, 1)\n",
    "        \n",
    "        self.encoder = OneHotEncoder()\n",
    "        # fit the encoder\n",
    "        self.encoder.fit(self.vocab)\n",
    "        \n",
    "        # one-hot encoding\n",
    "        self.data = [\n",
    "            torch.tensor(\n",
    "                self.encoder.transform(np.array(s).reshape(-1, 1)).toarray(), # transform data\n",
    "                dtype=torch.float\n",
    "            ) for s in smiles\n",
    "        ]\n",
    "        \n",
    "        self.data = nn.utils.rnn.pad_sequence(self.data, batch_first=True)\n",
    "        self.X = self.data[:, :-1, :]\n",
    "        self.y = self.data[:, 1:, :]\n",
    "        \n",
    "    \n",
    "    def __len__(self):\n",
    "        return int(self.data.shape[0])\n",
    "    \n",
    "    def __getitem__(self, idx):\n",
    "        return self.X[idx], self.y[idx]\n",
    "\n",
    "    \n",
    "data = SmilesDataset(padded_smiles, vocab) # initialize dataset\n",
    "input_size = data.vocab.shape[0] # should be 17\n",
    "print(f\"input_size: {input_size}\")"
   ]
  },
  {
   "cell_type": "markdown",
   "id": "753d9a89",
   "metadata": {},
   "source": [
    "## (b)"
   ]
  },
  {
   "cell_type": "code",
   "execution_count": 5,
   "id": "88058ac1",
   "metadata": {
    "scrolled": true
   },
   "outputs": [],
   "source": [
    "class VanillaRNN(nn.Module):\n",
    "    def __init__(self, input_size, hidden_size, num_layers=1):\n",
    "        super().__init__()\n",
    "        \n",
    "        self.input_size = input_size\n",
    "        self.hidden_size = hidden_size\n",
    "        self.num_layers = num_layers\n",
    "        \n",
    "        self.rnn = nn.RNN(input_size, hidden_size, num_layers, batch_first=True)\n",
    "        self.fc = nn.Linear(hidden_size, input_size)\n",
    "        self.softmax = nn.Softmax(dim=-1)\n",
    "    \n",
    "    def forward(self, x, h):\n",
    "        out, ht = self.rnn(x, h)\n",
    "        out = self.fc(out)\n",
    "        out = self.softmax(out)\n",
    "        return out, h\n",
    "    \n",
    "    def init_hidden(self, batch_size):\n",
    "        return torch.zeros(self.num_layers, batch_size, self.hidden_size)"
   ]
  },
  {
   "cell_type": "code",
   "execution_count": 6,
   "id": "a191a478",
   "metadata": {
    "scrolled": true
   },
   "outputs": [
    {
     "name": "stdout",
     "output_type": "stream",
     "text": [
      "-> VanillaRNN - Number of parameters: 2193\n"
     ]
    },
    {
     "name": "stderr",
     "output_type": "stream",
     "text": [
      "                                                                                        \r"
     ]
    },
    {
     "name": "stdout",
     "output_type": "stream",
     "text": [
      "Number of unique SMILES: 640\n",
      "Number of valid & unique SMILES: 10\n"
     ]
    },
    {
     "data": {
      "text/plain": [
       "['C1CC1C=O',\n",
       " 'C1C=C1C=O',\n",
       " 'C=O',\n",
       " 'C=C=O',\n",
       " 'CC=O',\n",
       " 'C=C1CC1C1CC1CC=O',\n",
       " 'C1CC1C1CC1C=O',\n",
       " 'CCC1CC1C=O',\n",
       " 'C1C=C1C1CC1C=O',\n",
       " 'C']"
      ]
     },
     "execution_count": 6,
     "metadata": {},
     "output_type": "execute_result"
    },
    {
     "data": {
      "image/png": "[encoded data removed]",
      "text/plain": [
       "<Figure size 1000x400 with 2 Axes>"
      ]
     },
     "metadata": {},
     "output_type": "display_data"
    }
   ],
   "source": [
    "model = VanillaRNN(input_size=input_size, hidden_size=32, num_layers=1)\n",
    "trainer = Trainer(\n",
    "    model, \n",
    "    opt_method=\"adam\", \n",
    "    learning_rate=1e-3, \n",
    "    batch_size=128, \n",
    "    epoch=500, \n",
    "    l2=1e-5\n",
    ")\n",
    "trainer.train(data)\n",
    "\n",
    "# generate 1000 strings & validation with the `validate` function\n",
    "seqs = trainer.sample(1000)\n",
    "validate(seqs)"
   ]
  },
  {
   "cell_type": "markdown",
   "id": "dd73e4cc-af79-418f-82f7-c2453fcdcab4",
   "metadata": {},
   "source": [
    "**ANSWER:** In this case, we find 640 unique SMILES strings but only 10 valid and unique SMILES strings."
   ]
  },
  {
   "cell_type": "markdown",
   "id": "166bb460",
   "metadata": {},
   "source": [
    "## (c)"
   ]
  },
  {
   "cell_type": "code",
   "execution_count": 7,
   "id": "61aa5c1b",
   "metadata": {
    "scrolled": true
   },
   "outputs": [],
   "source": [
    "class LSTM(nn.Module):\n",
    "    def __init__(self, input_size, hidden_size, num_layers=1):\n",
    "        super().__init__()\n",
    "        \n",
    "        self.input_size = input_size\n",
    "        self.hidden_size = hidden_size\n",
    "        self.num_layers = num_layers\n",
    "        \n",
    "        self.lstm = nn.LSTM(input_size, hidden_size, num_layers, batch_first=True)\n",
    "        self.fc = nn.Linear(hidden_size, input_size)\n",
    "        self.softmax = nn.Softmax(dim=-1)\n",
    "    \n",
    "    def forward(self, x, h):\n",
    "        out, ht = self.lstm(x, h)\n",
    "        out = self.fc(out)\n",
    "        out = self.softmax(out)\n",
    "        return out, h\n",
    "        \n",
    "    def init_hidden(self, batch_size):\n",
    "        return (torch.zeros(self.num_layers, batch_size, self.hidden_size), \n",
    "                torch.zeros(self.num_layers, batch_size, self.hidden_size))"
   ]
  },
  {
   "cell_type": "code",
   "execution_count": 8,
   "id": "62f9d41e",
   "metadata": {
    "scrolled": true
   },
   "outputs": [
    {
     "name": "stdout",
     "output_type": "stream",
     "text": [
      "-> LSTM - Number of parameters: 7089\n"
     ]
    },
    {
     "name": "stderr",
     "output_type": "stream",
     "text": [
      "                                                                                        \r"
     ]
    },
    {
     "name": "stdout",
     "output_type": "stream",
     "text": [
      "Number of unique SMILES: 998\n",
      "Number of valid & unique SMILES: 53\n"
     ]
    },
    {
     "data": {
      "text/plain": [
       "['CC=CCN',\n",
       " 'CCC=C=CCO',\n",
       " 'C=C=CC=C=C=CCCC=CCCCCCC=CCCC',\n",
       " 'CC=CC=CN',\n",
       " 'CCCCC=CCC=CC=C=C=CC=C=CCCCCCCC=C=COC=C=C=C=CCCCC=CC=CCCCCCCCNCCC=C',\n",
       " 'CCCCCC=C=C=CCC=CO',\n",
       " 'CC=C=CCC=NCCCC1C=CC=C=C=C=CCC=CCCCCC=C=CC=C=C=C=CC=C=CCOCCCC=C=CC=CC=C=C=CCC1C=CC=C',\n",
       " 'C=C=CC=C=C=CCCCC=CC',\n",
       " 'CC=C=CC=CC=CCC=CCC=CCC=CCC1CCCNC=CC=CC=CCCC1CCCOCC=CCCC=C=CCCCCC',\n",
       " 'CC=CC=CC=CCCC=CC',\n",
       " 'CSOSCCCCO',\n",
       " 'CC=CCCCCCC1CC=CC=CCC=CCC1CC1CC=C=C1CCCC=CCCCCC=CCCCC=C',\n",
       " 'CC=CCCCCC=CC=CC=CCCCCCC=C',\n",
       " 'CCC=CCCCC=C=CC1C=CC=CCCC=CCC=CC=NCC=CC=C=CCC=C=C=C=CC=CCCC=C1CC=CCCCC=CN=CC=C',\n",
       " 'C=C=CC=CC=CCCC=C=CCN',\n",
       " 'C=C=COC=CCC=C=C=C=CC',\n",
       " 'C=C=CCO',\n",
       " 'CCCCCC=CCCC=CC=CCC=CC=CC#CCCCC=C=C=CCCCCC=C=N',\n",
       " 'C=C=CCCC=CCC=CCCC',\n",
       " 'CCCCN',\n",
       " 'CCC=C=CC=CC=CCC=CSOSC=CC=CSOSCCCCC=CC#CC=CC=C=C=CC=CC=CCC=CCC=C=C=CC=CC=CC=CC=C=CC=CC=CC=C=CC=C=CCCCCCC=CSOSCCCC=C=C=CC=CC=C=CCCCCCCCCNCC=CC1C=CCC1CC=C=C=C=CC=CCC=C=C=CCC=CC=CCCC=C=CC=CCC=CCC=CCC=CSOSC=CC=C=CC=CO',\n",
       " 'CC=CCC=CC=CC=CC=CC=CNCC=CCC=C=C=CCC=CC=C=C=CC=CO',\n",
       " 'CSOSCCCC=CC=CCCC=CC=C=C=CCC=NC=C=C=CC=C=CCCC',\n",
       " 'CCCCCCCC=C=CCC=C=C=C=CCC=C1CCCC1C=CCCCC=CCCC',\n",
       " 'CC=CC1C=C=CC=CCCn1C=C=C=C',\n",
       " 'CC=O',\n",
       " 'C=C=C=CCC=N',\n",
       " 'CC1CC=CC1CC=C=CC=CCCCC=CCC',\n",
       " 'C=C1CNC=C1CC=COC=CCCSOSC=CCCCC=CC=CCCC',\n",
       " 'CC=CCNCCCC=C=C=C=CC=C',\n",
       " 'CCCC=C=C=N',\n",
       " 'C=CC',\n",
       " 'COCC=CCCC=CCCCCCCCCC=CC1C=C=CCCCCC=C=CC=CCCCC=CCC=CC#CCC=C=CC=CC=CCC1C=CCCC=C=CC=C',\n",
       " 'CCNCCCC=C=CCC=C',\n",
       " 'CCCCCCC=C=CCC=C',\n",
       " 'CCCCC=CC=CC=C=C=C1CNCC=C=CCCCC=CCC=C=C=C=C=C=C=CC=CCc1CCCCCCC=C=C',\n",
       " 'CC=CC(CC=CC=CC)C=C=CCSOSCCC=CO',\n",
       " 'C=CCCCC=C=C=CCCCCCC=CCCC=C=CNC=C=C=C=C=C=CNC=CC=C1CCCC=C=CC1CC=C=CC=C=NCC=CC=CC=CC=C=C=C=CCC=C=CC=CC=C=C=CC',\n",
       " 'CCCC=CCCCCCCCCCCCC',\n",
       " 'CO',\n",
       " 'C=C=C=C=C=CC=CCC=CCCCC=C=CC=CN=CCCCCCC=CCCCC=CCCCCC=CCC=C=CC=CC',\n",
       " 'C=CC=CCCCCCCC=CC1CC(CCC1CC=C=CCCC=C=C=CCC)C=CCC=CCCCCCCCC=CCCCC=C=CCCO',\n",
       " 'C=CCCCCCCC=C',\n",
       " 'C=CC2CCC=C=CCCCC2C',\n",
       " 'CC=C=CC=C=C=C=C=CC',\n",
       " 'CC=CCC=C=CCCCCC=C=CCCCCC=C=CCC=CCCC=CCCC=C=C=CCC=CC=C=CCNCCC=CCCCC=CC=CO',\n",
       " 'C',\n",
       " 'CCCC=C=CCC=CCCC=C=CCCC=CC=C=CCCC=C=CC=CCCCC=C=C=CCO',\n",
       " 'C=CCCCCC=C=CC=CCC=C=C=C=C=CCCCC=C=CCC=CCC=C=C',\n",
       " 'C=CC=CC=C=C=CCCCCCC=C=CC=CC=CCCCCCCNC=CC=CN',\n",
       " 'CCC=C=C=C=CCNCC=CCOCCCCCC=CC=C=C=CCC=CCCCCCC=C=C=CCC=Cc1CC=CC=CCC=CCCC=C=CCC=CCCc1CCCCC#CC=CC=CC=C=CO',\n",
       " 'C=C=C=CCC=CCCCC=CC=C=C=CCC=CCCC',\n",
       " 'C1C=C=C=CC=C=C=CC=CCCCCCCC=CC1C=CCC']"
      ]
     },
     "execution_count": 8,
     "metadata": {},
     "output_type": "execute_result"
    },
    {
     "data": {
      "image/png": "[encoded data removed]",
      "text/plain": [
       "<Figure size 1000x400 with 2 Axes>"
      ]
     },
     "metadata": {},
     "output_type": "display_data"
    }
   ],
   "source": [
    "model = LSTM(input_size=input_size, hidden_size=32, num_layers=1)\n",
    "trainer = Trainer(\n",
    "    model, \n",
    "    opt_method=\"adam\", \n",
    "    learning_rate=1e-3, \n",
    "    batch_size=128, \n",
    "    epoch=500, \n",
    "    l2=1e-5\n",
    ")\n",
    "trainer.train(data)\n",
    "\n",
    "# generate 1000 strings & validation with the `validate` function\n",
    "seqs = trainer.sample(1000)\n",
    "validate(seqs)"
   ]
  },
  {
   "cell_type": "markdown",
   "id": "7bce6ccf-117f-431f-a0ed-d8ce55fcb76f",
   "metadata": {},
   "source": [
    "**ANSWER:** In this case, we find 998 unique SMILES strings and 53 valid and unique SMILES strings."
   ]
  }
 ],
 "metadata": {
  "kernelspec": {
   "display_name": "bioe242",
   "language": "python",
   "name": "bioe242"
  },
  "language_info": {
   "codemirror_mode": {
    "name": "ipython",
    "version": 3
   },
   "file_extension": ".py",
   "mimetype": "text/x-python",
   "name": "python",
   "nbconvert_exporter": "python",
   "pygments_lexer": "ipython3",
   "version": "3.8.18"
  }
 },
 "nbformat": 4,
 "nbformat_minor": 5
}
